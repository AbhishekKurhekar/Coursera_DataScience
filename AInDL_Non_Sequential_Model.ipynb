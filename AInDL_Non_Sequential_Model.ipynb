{
    "cells": [
        {
            "metadata": {},
            "cell_type": "code",
            "source": "from keras.layers import Dense, Input\nfrom keras.models import Model\nfrom keras.utils import to_categorical\nfrom keras.datasets import mnist",
            "execution_count": 1,
            "outputs": [
                {
                    "output_type": "stream",
                    "text": "Waiting for a Spark session to start...\nSpark Initialization Done! ApplicationId = app-20200622094152-0000\nKERNEL_ID = b38fbdb6-2d46-4ffb-a874-dc9f87b89768\n",
                    "name": "stdout"
                }
            ]
        },
        {
            "metadata": {},
            "cell_type": "code",
            "source": "batch_size = 128\nnum_classes = 10\nepoch = 20\ninputs = Input(shape=(784,))",
            "execution_count": 2,
            "outputs": []
        },
        {
            "metadata": {},
            "cell_type": "code",
            "source": "(x_train, y_train), (x_test, y_test) = mnist.load_data()",
            "execution_count": 3,
            "outputs": [
                {
                    "output_type": "stream",
                    "text": "Downloading data from https://s3.amazonaws.com/img-datasets/mnist.npz\n11493376/11490434 [==============================] - 1s 0us/step\n",
                    "name": "stdout"
                }
            ]
        },
        {
            "metadata": {},
            "cell_type": "code",
            "source": "x_train = x_train.reshape(60000, 784)\nx_train = x_train.astype('float32')\nx_train /= 255\nx_test = x_test.reshape(10000, 784)\nx_test = x_test.astype('float32')\nx_test /= 255",
            "execution_count": 4,
            "outputs": []
        },
        {
            "metadata": {},
            "cell_type": "code",
            "source": "y_train = to_categorical(y_train, num_classes) #one hot encoding for training lables\ny_test = to_categorical(y_test, num_classes) #one hot encoding for testing lables",
            "execution_count": 5,
            "outputs": []
        },
        {
            "metadata": {},
            "cell_type": "code",
            "source": "x = Dense(units=512, activation='relu')(inputs)\nx = Dense(units=512, activation='relu')(x)\npredictions = Dense(units=num_classes, activation='softmax')(x)",
            "execution_count": 6,
            "outputs": [
                {
                    "output_type": "stream",
                    "text": "WARNING:tensorflow:From /opt/ibm/conda/miniconda3.6/lib/python3.6/site-packages/tensorflow/python/framework/op_def_library.py:263: colocate_with (from tensorflow.python.framework.ops) is deprecated and will be removed in a future version.\nInstructions for updating:\nColocations handled automatically by placer.\n",
                    "name": "stderr"
                }
            ]
        },
        {
            "metadata": {},
            "cell_type": "code",
            "source": "model = Model(inputs=inputs, outputs=predictions)",
            "execution_count": 7,
            "outputs": []
        },
        {
            "metadata": {},
            "cell_type": "code",
            "source": "model.summary()",
            "execution_count": 8,
            "outputs": [
                {
                    "output_type": "stream",
                    "text": "_________________________________________________________________\nLayer (type)                 Output Shape              Param #   \n=================================================================\ninput_1 (InputLayer)         (None, 784)               0         \n_________________________________________________________________\ndense_1 (Dense)              (None, 512)               401920    \n_________________________________________________________________\ndense_2 (Dense)              (None, 512)               262656    \n_________________________________________________________________\ndense_3 (Dense)              (None, 10)                5130      \n=================================================================\nTotal params: 669,706\nTrainable params: 669,706\nNon-trainable params: 0\n_________________________________________________________________\n",
                    "name": "stdout"
                }
            ]
        },
        {
            "metadata": {},
            "cell_type": "code",
            "source": "model.compile(loss='categorical_crossentropy',\n              optimizer='sgd',\n              metrics=['accuracy'])",
            "execution_count": 9,
            "outputs": []
        },
        {
            "metadata": {},
            "cell_type": "code",
            "source": "model.fit(x_train, y_train, batch_size=batch_size, epochs=epoch, validation_data=(x_test, y_test))",
            "execution_count": 10,
            "outputs": [
                {
                    "output_type": "stream",
                    "text": "WARNING:tensorflow:From /opt/ibm/conda/miniconda3.6/lib/python3.6/site-packages/tensorflow/python/ops/math_ops.py:3066: to_int32 (from tensorflow.python.ops.math_ops) is deprecated and will be removed in a future version.\nInstructions for updating:\nUse tf.cast instead.\n",
                    "name": "stderr"
                },
                {
                    "output_type": "stream",
                    "text": "Train on 60000 samples, validate on 10000 samples\nEpoch 1/20\n60000/60000 [==============================] - 6s 93us/step - loss: 1.1246 - acc: 0.7515 - val_loss: 0.5267 - val_acc: 0.8732\nEpoch 2/20\n60000/60000 [==============================] - 6s 96us/step - loss: 0.4533 - acc: 0.8815 - val_loss: 0.3717 - val_acc: 0.8994\nEpoch 3/20\n60000/60000 [==============================] - 5s 78us/step - loss: 0.3600 - acc: 0.9005 - val_loss: 0.3190 - val_acc: 0.9121\nEpoch 4/20\n60000/60000 [==============================] - 6s 95us/step - loss: 0.3186 - acc: 0.9103 - val_loss: 0.2898 - val_acc: 0.9172\nEpoch 5/20\n60000/60000 [==============================] - 5s 85us/step - loss: 0.2919 - acc: 0.9172 - val_loss: 0.2678 - val_acc: 0.9238\nEpoch 6/20\n60000/60000 [==============================] - 6s 95us/step - loss: 0.2722 - acc: 0.9225 - val_loss: 0.2520 - val_acc: 0.9283\nEpoch 7/20\n60000/60000 [==============================] - 5s 84us/step - loss: 0.2561 - acc: 0.9278 - val_loss: 0.2405 - val_acc: 0.9306\nEpoch 8/20\n60000/60000 [==============================] - 6s 92us/step - loss: 0.2421 - acc: 0.9315 - val_loss: 0.2282 - val_acc: 0.9341\nEpoch 9/20\n60000/60000 [==============================] - 5s 84us/step - loss: 0.2299 - acc: 0.9353 - val_loss: 0.2189 - val_acc: 0.9365\nEpoch 10/20\n60000/60000 [==============================] - 5s 85us/step - loss: 0.2194 - acc: 0.9378 - val_loss: 0.2101 - val_acc: 0.9380\nEpoch 11/20\n60000/60000 [==============================] - 6s 93us/step - loss: 0.2097 - acc: 0.9405 - val_loss: 0.2014 - val_acc: 0.9407\nEpoch 12/20\n60000/60000 [==============================] - 5s 84us/step - loss: 0.2006 - acc: 0.9431 - val_loss: 0.1934 - val_acc: 0.9435\nEpoch 13/20\n60000/60000 [==============================] - 6s 96us/step - loss: 0.1926 - acc: 0.9453 - val_loss: 0.1863 - val_acc: 0.9456\nEpoch 14/20\n60000/60000 [==============================] - 5s 80us/step - loss: 0.1851 - acc: 0.9471 - val_loss: 0.1800 - val_acc: 0.9465\nEpoch 15/20\n60000/60000 [==============================] - 6s 100us/step - loss: 0.1781 - acc: 0.9493 - val_loss: 0.1734 - val_acc: 0.9488\nEpoch 16/20\n60000/60000 [==============================] - 5s 80us/step - loss: 0.1716 - acc: 0.9510 - val_loss: 0.1696 - val_acc: 0.9488\nEpoch 17/20\n60000/60000 [==============================] - 6s 100us/step - loss: 0.1656 - acc: 0.9527 - val_loss: 0.1631 - val_acc: 0.9521\nEpoch 18/20\n60000/60000 [==============================] - 5s 79us/step - loss: 0.1600 - acc: 0.9543 - val_loss: 0.1580 - val_acc: 0.9522\nEpoch 19/20\n60000/60000 [==============================] - 6s 93us/step - loss: 0.1547 - acc: 0.9555 - val_loss: 0.1535 - val_acc: 0.9538\nEpoch 20/20\n60000/60000 [==============================] - 5s 85us/step - loss: 0.1497 - acc: 0.9568 - val_loss: 0.1511 - val_acc: 0.9544\n",
                    "name": "stdout"
                },
                {
                    "output_type": "execute_result",
                    "execution_count": 10,
                    "data": {
                        "text/plain": "<keras.callbacks.History at 0x7fae38eaaba8>"
                    },
                    "metadata": {}
                }
            ]
        },
        {
            "metadata": {},
            "cell_type": "code",
            "source": "score = model.evaluate(x_test, y_test, verbose=0)\nprint('Test Loss = ', score[0])\nprint('Test Accuracy = ', score[1])",
            "execution_count": 11,
            "outputs": [
                {
                    "output_type": "stream",
                    "text": "Test Loss =  0.1510590207017958\nTest Accuracy =  0.9544\n",
                    "name": "stdout"
                }
            ]
        },
        {
            "metadata": {},
            "cell_type": "code",
            "source": "",
            "execution_count": null,
            "outputs": []
        }
    ],
    "metadata": {
        "kernelspec": {
            "name": "python36",
            "display_name": "Python 3.6 with Spark",
            "language": "python3"
        },
        "language_info": {
            "mimetype": "text/x-python",
            "nbconvert_exporter": "python",
            "name": "python",
            "pygments_lexer": "ipython3",
            "version": "3.6.8",
            "file_extension": ".py",
            "codemirror_mode": {
                "version": 3,
                "name": "ipython"
            }
        }
    },
    "nbformat": 4,
    "nbformat_minor": 1
}