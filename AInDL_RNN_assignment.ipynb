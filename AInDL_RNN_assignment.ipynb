{
    "cells": [
        {
            "metadata": {},
            "cell_type": "code",
            "source": "from keras.preprocessing import sequence\nfrom keras.models import Sequential\nfrom keras.layers import Dense, Embedding, LSTM\nfrom keras.datasets import imdb",
            "execution_count": 1,
            "outputs": [
                {
                    "output_type": "stream",
                    "text": "Waiting for a Spark session to start...\nSpark Initialization Done! ApplicationId = app-20200622072548-0001\nKERNEL_ID = 188f593a-d2f6-4264-a87a-a5b7fa5b7030\n",
                    "name": "stdout"
                },
                {
                    "output_type": "stream",
                    "text": "Using TensorFlow backend.\n",
                    "name": "stderr"
                }
            ]
        },
        {
            "metadata": {},
            "cell_type": "code",
            "source": "max_features = 20000\nmax_len = 80",
            "execution_count": 2,
            "outputs": []
        },
        {
            "metadata": {},
            "cell_type": "code",
            "source": "(x_train, y_train), (x_test, y_test) = imdb.load_data(num_words=max_features)",
            "execution_count": 3,
            "outputs": []
        },
        {
            "metadata": {},
            "cell_type": "code",
            "source": "x_train = sequence.pad_sequences(x_train, maxlen=max_len)\nx_test = sequence.pad_sequences(x_test, maxlen=max_len)",
            "execution_count": 4,
            "outputs": []
        },
        {
            "metadata": {},
            "cell_type": "code",
            "source": "model = Sequential()",
            "execution_count": 5,
            "outputs": []
        },
        {
            "metadata": {},
            "cell_type": "code",
            "source": "model.add(Embedding(max_features, 128))\nmodel.add(LSTM(128, dropout=0.2, recurrent_dropout=0.2))\nmodel.add(Dense(1, activation='sigmoid'))",
            "execution_count": 6,
            "outputs": [
                {
                    "output_type": "stream",
                    "text": "WARNING:tensorflow:From /opt/ibm/conda/miniconda3.6/lib/python3.6/site-packages/tensorflow/python/framework/op_def_library.py:263: colocate_with (from tensorflow.python.framework.ops) is deprecated and will be removed in a future version.\nInstructions for updating:\nColocations handled automatically by placer.\nWARNING:tensorflow:From /opt/ibm/conda/miniconda3.6/lib/python3.6/site-packages/keras/backend/tensorflow_backend.py:3445: calling dropout (from tensorflow.python.ops.nn_ops) with keep_prob is deprecated and will be removed in a future version.\nInstructions for updating:\nPlease use `rate` instead of `keep_prob`. Rate should be set to `rate = 1 - keep_prob`.\n",
                    "name": "stderr"
                }
            ]
        },
        {
            "metadata": {},
            "cell_type": "code",
            "source": "model.summary()",
            "execution_count": 7,
            "outputs": [
                {
                    "output_type": "stream",
                    "text": "_________________________________________________________________\nLayer (type)                 Output Shape              Param #   \n=================================================================\nembedding_1 (Embedding)      (None, None, 128)         2560000   \n_________________________________________________________________\nlstm_1 (LSTM)                (None, 128)               131584    \n_________________________________________________________________\ndense_1 (Dense)              (None, 1)                 129       \n=================================================================\nTotal params: 2,691,713\nTrainable params: 2,691,713\nNon-trainable params: 0\n_________________________________________________________________\n",
                    "name": "stdout"
                }
            ]
        },
        {
            "metadata": {},
            "cell_type": "code",
            "source": "model.compile(loss='binary_crossentropy',\n              optimizer='sgd',\n              metrics=['accuracy'])",
            "execution_count": 8,
            "outputs": []
        },
        {
            "metadata": {},
            "cell_type": "code",
            "source": "x_train[1]",
            "execution_count": 9,
            "outputs": [
                {
                    "output_type": "execute_result",
                    "execution_count": 9,
                    "data": {
                        "text/plain": "array([ 125,   68,    2, 6853,   15,  349,  165, 4362,   98,    5,    4,\n        228,    9,   43,    2, 1157,   15,  299,  120,    5,  120,  174,\n         11,  220,  175,  136,   50,    9, 4373,  228, 8255,    5,    2,\n        656,  245, 2350,    5,    4, 9837,  131,  152,  491,   18,    2,\n         32, 7464, 1212,   14,    9,    6,  371,   78,   22,  625,   64,\n       1382,    9,    8,  168,  145,   23,    4, 1690,   15,   16,    4,\n       1355,    5,   28,    6,   52,  154,  462,   33,   89,   78,  285,\n         16,  145,   95], dtype=int32)"
                    },
                    "metadata": {}
                }
            ]
        },
        {
            "metadata": {},
            "cell_type": "code",
            "source": "y_train[1]",
            "execution_count": 10,
            "outputs": [
                {
                    "output_type": "execute_result",
                    "execution_count": 10,
                    "data": {
                        "text/plain": "0"
                    },
                    "metadata": {}
                }
            ]
        },
        {
            "metadata": {},
            "cell_type": "code",
            "source": "model.fit(x_train, y_train, batch_size=32, epochs=15, validation_data=(x_test, y_test))",
            "execution_count": 11,
            "outputs": [
                {
                    "output_type": "stream",
                    "text": "WARNING:tensorflow:From /opt/ibm/conda/miniconda3.6/lib/python3.6/site-packages/tensorflow/python/ops/math_ops.py:3066: to_int32 (from tensorflow.python.ops.math_ops) is deprecated and will be removed in a future version.\nInstructions for updating:\nUse tf.cast instead.\n",
                    "name": "stderr"
                },
                {
                    "output_type": "stream",
                    "text": "Train on 25000 samples, validate on 25000 samples\nEpoch 1/15\n25000/25000 [==============================] - 456s 18ms/step - loss: 0.6931 - acc: 0.5042 - val_loss: 0.6929 - val_acc: 0.5002\nEpoch 2/15\n25000/25000 [==============================] - 452s 18ms/step - loss: 0.6928 - acc: 0.5130 - val_loss: 0.6926 - val_acc: 0.5275\nEpoch 3/15\n25000/25000 [==============================] - 451s 18ms/step - loss: 0.6925 - acc: 0.5182 - val_loss: 0.6924 - val_acc: 0.5135\nEpoch 4/15\n25000/25000 [==============================] - 454s 18ms/step - loss: 0.6922 - acc: 0.5286 - val_loss: 0.6921 - val_acc: 0.5205\nEpoch 5/15\n25000/25000 [==============================] - 454s 18ms/step - loss: 0.6919 - acc: 0.5424 - val_loss: 0.6918 - val_acc: 0.5590\nEpoch 6/15\n25000/25000 [==============================] - 453s 18ms/step - loss: 0.6917 - acc: 0.5482 - val_loss: 0.6916 - val_acc: 0.5230\nEpoch 7/15\n25000/25000 [==============================] - 452s 18ms/step - loss: 0.6913 - acc: 0.5510 - val_loss: 0.6912 - val_acc: 0.5278\nEpoch 8/15\n25000/25000 [==============================] - 453s 18ms/step - loss: 0.6908 - acc: 0.5488 - val_loss: 0.6907 - val_acc: 0.5765\nEpoch 9/15\n25000/25000 [==============================] - 453s 18ms/step - loss: 0.6903 - acc: 0.5632 - val_loss: 0.6902 - val_acc: 0.5712\nEpoch 10/15\n25000/25000 [==============================] - 454s 18ms/step - loss: 0.6897 - acc: 0.5734 - val_loss: 0.6897 - val_acc: 0.5586\nEpoch 11/15\n25000/25000 [==============================] - 454s 18ms/step - loss: 0.6890 - acc: 0.5690 - val_loss: 0.6889 - val_acc: 0.5920\nEpoch 12/15\n25000/25000 [==============================] - 450s 18ms/step - loss: 0.6882 - acc: 0.5804 - val_loss: 0.6879 - val_acc: 0.5946\nEpoch 13/15\n25000/25000 [==============================] - 452s 18ms/step - loss: 0.6871 - acc: 0.5896 - val_loss: 0.6867 - val_acc: 0.5976\nEpoch 14/15\n25000/25000 [==============================] - 449s 18ms/step - loss: 0.6855 - acc: 0.5906 - val_loss: 0.6850 - val_acc: 0.6023\nEpoch 15/15\n25000/25000 [==============================] - 451s 18ms/step - loss: 0.6832 - acc: 0.6028 - val_loss: 0.6822 - val_acc: 0.6095\n",
                    "name": "stdout"
                },
                {
                    "output_type": "execute_result",
                    "execution_count": 11,
                    "data": {
                        "text/plain": "<keras.callbacks.History at 0x7f7fc2e26da0>"
                    },
                    "metadata": {}
                }
            ]
        },
        {
            "metadata": {},
            "cell_type": "code",
            "source": "model.evaluate(x_test, y_test, batch_size=32)",
            "execution_count": 12,
            "outputs": [
                {
                    "output_type": "stream",
                    "text": "25000/25000 [==============================] - 96s 4ms/step\n",
                    "name": "stdout"
                },
                {
                    "output_type": "execute_result",
                    "execution_count": 12,
                    "data": {
                        "text/plain": "[0.6822103680801391, 0.60948]"
                    },
                    "metadata": {}
                }
            ]
        },
        {
            "metadata": {},
            "cell_type": "code",
            "source": "score = model.evaluate(x_test, y_test, batch_size=32)\nprint('Test Loss = ', score[0])\nprint('Test Accuracy = ', score[1])",
            "execution_count": 13,
            "outputs": [
                {
                    "output_type": "stream",
                    "text": "25000/25000 [==============================] - 95s 4ms/step\nTest Loss =  0.6822103680801391\nTest Accuracy =  0.60948\n",
                    "name": "stdout"
                }
            ]
        },
        {
            "metadata": {},
            "cell_type": "code",
            "source": "",
            "execution_count": null,
            "outputs": []
        }
    ],
    "metadata": {
        "kernelspec": {
            "name": "python36",
            "display_name": "Python 3.6 with Spark",
            "language": "python3"
        },
        "language_info": {
            "mimetype": "text/x-python",
            "nbconvert_exporter": "python",
            "name": "python",
            "pygments_lexer": "ipython3",
            "version": "3.6.8",
            "file_extension": ".py",
            "codemirror_mode": {
                "version": 3,
                "name": "ipython"
            }
        }
    },
    "nbformat": 4,
    "nbformat_minor": 1
}