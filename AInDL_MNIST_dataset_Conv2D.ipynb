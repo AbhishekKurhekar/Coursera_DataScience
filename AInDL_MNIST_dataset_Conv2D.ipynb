{
    "cells": [
        {
            "metadata": {},
            "cell_type": "code",
            "source": "'''Trains a simple convnet on the MNIST dataset.\n\nGets to 99.25% test accuracy after 12 epochs\n(there is still a lot of margin for parameter tuning).\n16 seconds per epoch on a GRID K520 GPU.\n'''\n\nfrom __future__ import print_function\nimport keras\nfrom keras.datasets import mnist\nfrom keras.models import Sequential\nfrom keras.layers import Dense, Dropout, Flatten\nfrom keras.layers import Conv2D, MaxPooling2D\nfrom keras import backend as K\n\nbatch_size = 128\nnum_classes = 10\nepochs = 12\n\n# input image dimensions\nimg_rows, img_cols = 28, 28\n\n# the data, shuffled and split between train and test sets\n(x_train, y_train), (x_test, y_test) = mnist.load_data()\n\nif K.image_data_format() == 'channels_first':\n    x_train = x_train.reshape(x_train.shape[0], 1, img_rows, img_cols)\n    x_test = x_test.reshape(x_test.shape[0], 1, img_rows, img_cols)\n    input_shape = (1, img_rows, img_cols)\nelse:\n    x_train = x_train.reshape(x_train.shape[0], img_rows, img_cols, 1)\n    x_test = x_test.reshape(x_test.shape[0], img_rows, img_cols, 1)\n    input_shape = (img_rows, img_cols, 1)\n\nx_train = x_train.astype('float32')\nx_test = x_test.astype('float32')\nx_train /= 255\nx_test /= 255\nprint('x_train shape:', x_train.shape)\nprint(x_train.shape[0], 'train samples')\nprint(x_test.shape[0], 'test samples')\n\n# convert class vectors to binary class matrices\ny_train = keras.utils.to_categorical(y_train, num_classes)\ny_test = keras.utils.to_categorical(y_test, num_classes)",
            "execution_count": 1,
            "outputs": [
                {
                    "output_type": "stream",
                    "text": "Waiting for a Spark session to start...\nSpark Initialization Done! ApplicationId = app-20200627064703-0001\nKERNEL_ID = 7e444736-9ec0-4ec3-aba3-6a12cb94f38c\n",
                    "name": "stdout"
                },
                {
                    "output_type": "stream",
                    "text": "Using TensorFlow backend.\n",
                    "name": "stderr"
                },
                {
                    "output_type": "stream",
                    "text": "x_train shape: (60000, 28, 28, 1)\n60000 train samples\n10000 test samples\n",
                    "name": "stdout"
                }
            ]
        },
        {
            "metadata": {},
            "cell_type": "code",
            "source": "#Please construct the following neural network and report accuracy after training\n#Layer 1: 2D Convolution with 32 hidden neurons, kernel 3 by 3, relu activation (Note: input_shape is given)\n#Layer 2: 2D Convolution with 64 hidden neurons, kernel 3 by 3, relu activation \n#Layer 3: 2D MaxPooling, pool_size 2 by 2\n#Layer 4: 25% Dropout\n#Layer 5: Flatten (Hint: model.add(Flatten()))\n#Layer 6: Fully connected layer with 128 neurons, relu activation\n#Layer 7: 50% Dropout\n#Layer 8 Softmax Output Layer according to the problem (output vector)\n\n\nmodel = Sequential()\nmodel.add(Conv2D(32, kernel_size=(3, 3), activation='relu', input_shape=input_shape))\nmodel.add(Conv2D(32, kernel_size=(3, 3), activation='relu'))\nmodel.add(MaxPooling2D(pool_size=(2, 2)))\nmodel.add(Dropout(rate=0.25))\nmodel.add(Flatten())\nmodel.add(Dense(128, activation='relu'))\nmodel.add(Dropout(rate=0.5))\nmodel.add(Dense(num_classes, activation='softmax'))",
            "execution_count": 2,
            "outputs": [
                {
                    "output_type": "stream",
                    "text": "WARNING:tensorflow:From /opt/ibm/conda/miniconda3.6/lib/python3.6/site-packages/tensorflow/python/framework/op_def_library.py:263: colocate_with (from tensorflow.python.framework.ops) is deprecated and will be removed in a future version.\nInstructions for updating:\nColocations handled automatically by placer.\nWARNING:tensorflow:From /opt/ibm/conda/miniconda3.6/lib/python3.6/site-packages/keras/backend/tensorflow_backend.py:3445: calling dropout (from tensorflow.python.ops.nn_ops) with keep_prob is deprecated and will be removed in a future version.\nInstructions for updating:\nPlease use `rate` instead of `keep_prob`. Rate should be set to `rate = 1 - keep_prob`.\n",
                    "name": "stderr"
                }
            ]
        },
        {
            "metadata": {},
            "cell_type": "code",
            "source": "model.compile(loss=keras.losses.categorical_crossentropy,\n              optimizer=keras.optimizers.Adadelta(),\n              metrics=['accuracy'])",
            "execution_count": 3,
            "outputs": []
        },
        {
            "metadata": {},
            "cell_type": "code",
            "source": "model.summary()",
            "execution_count": null,
            "outputs": []
        },
        {
            "metadata": {},
            "cell_type": "code",
            "source": "#some learners constantly reported 502 errors in Watson Studio. \n#This is due to the limited resources in the free tier and the heavy resource consumption of Keras.\n#This is a workaround to limit resource consumption\n\n# from keras import backend as K\n\n# K.set_session(K.tf.Session(config=K.tf.ConfigProto(intra_op_parallelism_threads=1, inter_op_parallelism_threads=1)))\nmodel.fit(x_train, y_train,\n          batch_size=batch_size,\n          epochs=epochs,\n          verbose=1,\n          validation_data=(x_test, y_test))\nscore = model.evaluate(x_test, y_test, verbose=0)\nprint('Test loss:', score[0])\nprint('Test accuracy:', score[1])\n",
            "execution_count": 4,
            "outputs": [
                {
                    "output_type": "stream",
                    "text": "WARNING:tensorflow:From /opt/ibm/conda/miniconda3.6/lib/python3.6/site-packages/tensorflow/python/ops/math_ops.py:3066: to_int32 (from tensorflow.python.ops.math_ops) is deprecated and will be removed in a future version.\nInstructions for updating:\nUse tf.cast instead.\n",
                    "name": "stderr"
                },
                {
                    "output_type": "stream",
                    "text": "Train on 60000 samples, validate on 10000 samples\nEpoch 1/12\n60000/60000 [==============================] - 43s 717us/step - loss: 0.2805 - acc: 0.9134 - val_loss: 0.0632 - val_acc: 0.9805\nEpoch 2/12\n60000/60000 [==============================] - 41s 675us/step - loss: 0.0969 - acc: 0.9709 - val_loss: 0.0425 - val_acc: 0.9861\nEpoch 3/12\n60000/60000 [==============================] - 41s 683us/step - loss: 0.0727 - acc: 0.9783 - val_loss: 0.0373 - val_acc: 0.9880\nEpoch 4/12\n60000/60000 [==============================] - 40s 672us/step - loss: 0.0603 - acc: 0.9818 - val_loss: 0.0321 - val_acc: 0.9883\nEpoch 5/12\n60000/60000 [==============================] - 42s 705us/step - loss: 0.0544 - acc: 0.9836 - val_loss: 0.0378 - val_acc: 0.9869\nEpoch 6/12\n60000/60000 [==============================] - 42s 697us/step - loss: 0.0471 - acc: 0.9856 - val_loss: 0.0296 - val_acc: 0.9895\nEpoch 7/12\n60000/60000 [==============================] - 41s 681us/step - loss: 0.0435 - acc: 0.9867 - val_loss: 0.0282 - val_acc: 0.9906\nEpoch 8/12\n60000/60000 [==============================] - 43s 714us/step - loss: 0.0410 - acc: 0.9874 - val_loss: 0.0272 - val_acc: 0.9903\nEpoch 9/12\n60000/60000 [==============================] - 42s 706us/step - loss: 0.0380 - acc: 0.9883 - val_loss: 0.0274 - val_acc: 0.9904\nEpoch 10/12\n60000/60000 [==============================] - 40s 672us/step - loss: 0.0367 - acc: 0.9889 - val_loss: 0.0299 - val_acc: 0.9896\nEpoch 11/12\n60000/60000 [==============================] - 42s 694us/step - loss: 0.0326 - acc: 0.9899 - val_loss: 0.0298 - val_acc: 0.9901\nEpoch 12/12\n60000/60000 [==============================] - 40s 674us/step - loss: 0.0318 - acc: 0.9902 - val_loss: 0.0253 - val_acc: 0.9913\nTest loss: 0.02528048255106951\nTest accuracy: 0.9913\n",
                    "name": "stdout"
                }
            ]
        },
        {
            "metadata": {},
            "cell_type": "code",
            "source": "",
            "execution_count": null,
            "outputs": []
        }
    ],
    "metadata": {
        "kernelspec": {
            "name": "python36",
            "display_name": "Python 3.6 with Spark",
            "language": "python3"
        },
        "language_info": {
            "mimetype": "text/x-python",
            "nbconvert_exporter": "python",
            "name": "python",
            "pygments_lexer": "ipython3",
            "version": "3.6.8",
            "file_extension": ".py",
            "codemirror_mode": {
                "version": 3,
                "name": "ipython"
            }
        }
    },
    "nbformat": 4,
    "nbformat_minor": 1
}