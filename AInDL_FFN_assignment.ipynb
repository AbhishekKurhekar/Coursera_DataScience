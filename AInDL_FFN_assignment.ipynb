{
    "cells": [
        {
            "metadata": {},
            "cell_type": "code",
            "source": "from keras.layers import Dense, Dropout\nfrom keras.models import Sequential\nfrom keras.utils import to_categorical\nfrom keras.datasets import mnist",
            "execution_count": 11,
            "outputs": []
        },
        {
            "metadata": {},
            "cell_type": "code",
            "source": "batch_size = 128\nnum_classes = 10\nepoch = 20",
            "execution_count": 7,
            "outputs": []
        },
        {
            "metadata": {},
            "cell_type": "code",
            "source": "(x_train, y_train), (x_test, y_test) = mnist.load_data()",
            "execution_count": 4,
            "outputs": [
                {
                    "output_type": "stream",
                    "text": "Downloading data from https://s3.amazonaws.com/img-datasets/mnist.npz\n11493376/11490434 [==============================] - 1s 0us/step\n",
                    "name": "stdout"
                }
            ]
        },
        {
            "metadata": {},
            "cell_type": "code",
            "source": "x_train = x_train.reshape(60000, 784)\nx_train = x_train.astype('float32')\nx_train /= 255\nx_test = x_test.reshape(10000, 784)\nx_test = x_test.astype('float32')\nx_test /= 255",
            "execution_count": 6,
            "outputs": []
        },
        {
            "metadata": {},
            "cell_type": "code",
            "source": "y_train = to_categorical(y_train, num_classes) #one hot encoding for training lables\ny_test = to_categorical(y_test, num_classes) #one hot encoding for testing lables",
            "execution_count": 9,
            "outputs": []
        },
        {
            "metadata": {},
            "cell_type": "code",
            "source": "model = Sequential()",
            "execution_count": 10,
            "outputs": []
        },
        {
            "metadata": {},
            "cell_type": "code",
            "source": "model.add(Dense(units=512,\n                activation='relu',\n                input_shape=(784,)))\nmodel.add(Dropout(0.2))\nmodel.add(Dense(units=512,\n                activation='relu'))\nmodel.add(Dropout(0.2))\nmodel.add(Dense(units=num_classes,\n                activation='softmax'))",
            "execution_count": 12,
            "outputs": [
                {
                    "output_type": "stream",
                    "text": "WARNING:tensorflow:From /opt/ibm/conda/miniconda3.6/lib/python3.6/site-packages/tensorflow/python/framework/op_def_library.py:263: colocate_with (from tensorflow.python.framework.ops) is deprecated and will be removed in a future version.\nInstructions for updating:\nColocations handled automatically by placer.\nWARNING:tensorflow:From /opt/ibm/conda/miniconda3.6/lib/python3.6/site-packages/keras/backend/tensorflow_backend.py:3445: calling dropout (from tensorflow.python.ops.nn_ops) with keep_prob is deprecated and will be removed in a future version.\nInstructions for updating:\nPlease use `rate` instead of `keep_prob`. Rate should be set to `rate = 1 - keep_prob`.\n",
                    "name": "stderr"
                }
            ]
        },
        {
            "metadata": {},
            "cell_type": "code",
            "source": "model.summary()",
            "execution_count": 13,
            "outputs": [
                {
                    "output_type": "stream",
                    "text": "_________________________________________________________________\nLayer (type)                 Output Shape              Param #   \n=================================================================\ndense_1 (Dense)              (None, 512)               401920    \n_________________________________________________________________\ndropout_1 (Dropout)          (None, 512)               0         \n_________________________________________________________________\ndense_2 (Dense)              (None, 512)               262656    \n_________________________________________________________________\ndropout_2 (Dropout)          (None, 512)               0         \n_________________________________________________________________\ndense_3 (Dense)              (None, 10)                5130      \n=================================================================\nTotal params: 669,706\nTrainable params: 669,706\nNon-trainable params: 0\n_________________________________________________________________\n",
                    "name": "stdout"
                }
            ]
        },
        {
            "metadata": {},
            "cell_type": "code",
            "source": "model.compile(loss='categorical_crossentropy',\n              optimizer='sgd',\n              metrics=['accuracy'])",
            "execution_count": 16,
            "outputs": []
        },
        {
            "metadata": {},
            "cell_type": "code",
            "source": "model.fit(x_train, y_train, batch_size=batch_size, epochs=epoch, validation_data=(x_test, y_test))",
            "execution_count": 17,
            "outputs": [
                {
                    "output_type": "stream",
                    "text": "Train on 60000 samples, validate on 10000 samples\nEpoch 1/20\n60000/60000 [==============================] - 8s 129us/step - loss: 2.2997 - acc: 0.1199 - val_loss: 2.3144 - val_acc: 0.1014\nEpoch 2/20\n60000/60000 [==============================] - 6s 95us/step - loss: 2.2985 - acc: 0.1124 - val_loss: 2.3036 - val_acc: 0.1098\nEpoch 3/20\n60000/60000 [==============================] - 6s 106us/step - loss: 2.2981 - acc: 0.1124 - val_loss: 2.2927 - val_acc: 0.1176\nEpoch 4/20\n60000/60000 [==============================] - 7s 110us/step - loss: 2.2979 - acc: 0.1124 - val_loss: 2.2819 - val_acc: 0.1249\nEpoch 5/20\n60000/60000 [==============================] - 6s 96us/step - loss: 2.2978 - acc: 0.1124 - val_loss: 2.2709 - val_acc: 0.1301\nEpoch 6/20\n60000/60000 [==============================] - 7s 112us/step - loss: 2.2976 - acc: 0.1124 - val_loss: 2.2601 - val_acc: 0.1349\nEpoch 7/20\n60000/60000 [==============================] - 6s 97us/step - loss: 2.2974 - acc: 0.1124 - val_loss: 2.2483 - val_acc: 0.1435\nEpoch 8/20\n60000/60000 [==============================] - 7s 110us/step - loss: 2.2972 - acc: 0.1124 - val_loss: 2.2372 - val_acc: 0.1491\nEpoch 9/20\n60000/60000 [==============================] - 6s 95us/step - loss: 2.2970 - acc: 0.1124 - val_loss: 2.2257 - val_acc: 0.1576\nEpoch 10/20\n60000/60000 [==============================] - 6s 107us/step - loss: 2.2969 - acc: 0.1124 - val_loss: 2.2136 - val_acc: 0.1694\nEpoch 11/20\n60000/60000 [==============================] - 7s 110us/step - loss: 2.2966 - acc: 0.1124 - val_loss: 2.2018 - val_acc: 0.1775\nEpoch 12/20\n60000/60000 [==============================] - 6s 97us/step - loss: 2.2964 - acc: 0.1124 - val_loss: 2.1894 - val_acc: 0.1881\nEpoch 13/20\n60000/60000 [==============================] - 7s 111us/step - loss: 2.2962 - acc: 0.1124 - val_loss: 2.1774 - val_acc: 0.1955\nEpoch 14/20\n60000/60000 [==============================] - 6s 96us/step - loss: 2.2960 - acc: 0.1124 - val_loss: 2.1645 - val_acc: 0.2066\nEpoch 15/20\n60000/60000 [==============================] - 7s 108us/step - loss: 2.2958 - acc: 0.1124 - val_loss: 2.1514 - val_acc: 0.2221\nEpoch 16/20\n60000/60000 [==============================] - 6s 98us/step - loss: 2.2956 - acc: 0.1124 - val_loss: 2.1388 - val_acc: 0.2346\nEpoch 17/20\n60000/60000 [==============================] - 6s 106us/step - loss: 2.2954 - acc: 0.1124 - val_loss: 2.1253 - val_acc: 0.2558\nEpoch 18/20\n60000/60000 [==============================] - 6s 103us/step - loss: 2.2951 - acc: 0.1124 - val_loss: 2.1124 - val_acc: 0.2636\nEpoch 19/20\n60000/60000 [==============================] - 6s 96us/step - loss: 2.2948 - acc: 0.1124 - val_loss: 2.0986 - val_acc: 0.2796\nEpoch 20/20\n60000/60000 [==============================] - 6s 107us/step - loss: 2.2947 - acc: 0.1124 - val_loss: 2.0845 - val_acc: 0.2947\n",
                    "name": "stdout"
                },
                {
                    "output_type": "execute_result",
                    "execution_count": 17,
                    "data": {
                        "text/plain": "<keras.callbacks.History at 0x7f9466cb7390>"
                    },
                    "metadata": {}
                }
            ]
        },
        {
            "metadata": {},
            "cell_type": "code",
            "source": "score = model.evaluate(x_test, y_test, verbose=0)\nprint('Test Loss = ', score[0])\nprint('Test Accuracy = ', score[1])",
            "execution_count": 18,
            "outputs": [
                {
                    "output_type": "stream",
                    "text": "Test Loss =  2.0845165992736816\nTest Accuracy =  0.2947\n",
                    "name": "stdout"
                }
            ]
        }
    ],
    "metadata": {
        "kernelspec": {
            "name": "python36",
            "display_name": "Python 3.6 with Spark",
            "language": "python3"
        },
        "language_info": {
            "mimetype": "text/x-python",
            "nbconvert_exporter": "python",
            "name": "python",
            "pygments_lexer": "ipython3",
            "version": "3.6.8",
            "file_extension": ".py",
            "codemirror_mode": {
                "version": 3,
                "name": "ipython"
            }
        }
    },
    "nbformat": 4,
    "nbformat_minor": 1
}